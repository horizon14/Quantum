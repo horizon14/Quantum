{
 "cells": [
  {
   "cell_type": "markdown",
   "metadata": {},
   "source": [
    "# 基于有限差分法的二维定态薛定谔方程可视化分析"
   ]
  },
  {
   "cell_type": "markdown",
   "metadata": {},
   "source": [
    "### 前言：基于有限差分法的一维定态薛定谔方程分析\n",
    "一维定态薛定谔方程：\n",
    "$$ \\frac{-\\hbar^2}{2m}\\frac{\\partial^2\\psi}{\\partial x^2} +V\\psi=E\\psi$$\n",
    "有限差分法(FDM)中用于近似二阶偏导数的三点模板\n",
    "对 $\\psi_{i+1}$,$\\psi_{i-1}$ 进行泰勒展开\n",
    "在有限差分方法中，我们常常使用泰勒展开的前几项来近似函数的导数\n",
    "$$ \\psi(x_{i+1})=\\psi(x_i)+\\psi'(x_i) (\\Delta x) + \\frac12\\psi''(x_i)(\\Delta x)^2 +O\\left((\\Delta x)^3\\right) $$\n",
    "$$ \\psi(x_{i-1})=\\psi(x_i)-\\psi'(x_i) (\\Delta x) + \\frac12\\psi''(x_i)(\\Delta x)^2 -O\\left((\\Delta x)^3\\right) $$\n",
    "上面两式相加\n",
    "$$ \\psi(x_{i+1})-2\\psi(x_i)+\\psi(x_{i-1})=\\psi''(x_i)(\\Delta x)^2+O\\left((\\Delta x)^4\\right) $$\n",
    "$$ \\psi''(x_i)=\\frac{\\psi(x_{i+1})-2\\psi(x_i)+\\psi(x_{i-1})}{(\\Delta x)^2}-\\frac{O\\left((\\Delta x)^4\\right)}{(\\Delta x)^2}=\\frac{\\psi(x_{i+1})-2\\psi(x_i)+\\psi(x_{i-1})}{(\\Delta x)^2}-O\\left((\\Delta x)^2\\right) $$\n",
    "$$ \\psi''(x_i)\\approx \\frac{\\psi(x_{i+1})-2\\psi(x_i)+\\psi(x_{i-1})}{(\\Delta x)^2} $$\n",
    "$\\Delta x$越小，数据越精准\n",
    "所以有:\n",
    "$$ \\frac{\\partial^2 \\psi_{i}}{\\partial x^2}=\\frac{\\psi_{i+1}-2\\psi_i+\\psi_{i-1}}{(\\Delta x)^2} $$ \n",
    "将上式代入薛定谔方程\n",
    "$$ -\\frac{\\hbar^2}{2m}\\frac{\\psi_{i+1}-2\\psi_i+\\psi_{i-1}}{(\\Delta x)^2}+V_i\\psi_i=E\\psi_i $$\n",
    "$$ -\\frac{1}{2(\\Delta x)^2}\\left(\\psi_{i-1} +\\left(-2-\\left(\\frac{2m}{\\hbar^2}(\\Delta x)^2V_i\\right)\\right)\\psi_i+\\psi_{i+1}\\right)=\\frac{m}{\\hbar^2}E\\psi_i$$\n",
    "$$ -\\frac{1}{2(\\Delta x)^2}\\psi_{i-1}+\\frac{1}{(\\Delta x)^2}\\psi_i -\\frac{1}{2(\\Delta x)^2}\\psi_{i+1}+\\frac{m}{\\hbar^2} V_i\\psi_i =\\frac{m}{\\hbar^2}E\\psi_i $$\n",
    "为数值分析更为方便精确，这里我们令$\\hbar=1$,即：\n",
    "$$-\\frac{1}{2(\\Delta x)^2}\\psi_{i-1}+\\frac{1}{(\\Delta x)^2}\\psi_i  -\\frac{1}{2(\\Delta x)^2}\\psi_{i+1}+mV_i\\psi_i=mE\\psi_i$$\n",
    "写成矩阵形式，此处使用无限深方势阱的边界条件$\\psi_0=0,\\psi_N=0$:\n",
    "$$\n",
    "\\begin{bmatrix}\n",
    "\\frac{1}{(\\Delta x)^2}+mV_1 & -\\frac{1}{2(\\Delta x)^2} & 0 & \\cdots & 0 \\\\\n",
    "-\\frac{1}{2(\\Delta x)^2} & \\frac{1}{(\\Delta x)^2}+mV_2&-\\frac{1}{2(\\Delta x)^2} &\\cdots & 0\\\\\n",
    "0 &-\\frac{1}{2(\\Delta x)^2} & \\frac{1}{(\\Delta x)^2}+mV_3&\\cdots &0\\\\\n",
    "\\vdots & \\vdots & \\vdots & \\ddots&\\vdots\\\\\n",
    "0&\\cdots&0 &-\\frac{1}{2(\\Delta x)^2} & \\frac{1}{(\\Delta x)^2}+mV_{N-1}\\\\\n",
    "\\end{bmatrix}\n",
    "\\begin{bmatrix}\n",
    "\\psi_1\\\\\n",
    "\\psi_2\\\\\n",
    "\\cdots\\\\\n",
    "\\psi_{N-1}\\\\\n",
    "\\end{bmatrix}\n",
    "=mE\n",
    "\\begin{bmatrix}\n",
    "\\psi_1\\\\\n",
    "\\psi_2\\\\\n",
    "\\cdots\\\\\n",
    "\\psi_{N-1}\\\\\n",
    "\\end{bmatrix}\n",
    "$$\n",
    "可知$$\\hat H=\\hat T +\\hat V$$\n",
    "所以动能算符\n",
    "$$\\hat T=\n",
    "-\\frac{1}{2(\\Delta x)^2}\n",
    "\\begin{bmatrix}\n",
    "-2&1&0&\\cdots&0\\\\\n",
    "1&-2&1&\\cdots&0\\\\\n",
    "0&1&-2&\\cdots&0\\\\\n",
    "\\vdots & \\vdots & \\vdots & \\ddots&\\vdots\\\\\n",
    "0&\\cdots&1&-2&1\\\\\n",
    "0&\\cdots&\\cdots&1&-2\\\\\n",
    "\\end{bmatrix}\n",
    "$$\n",
    "$$ \\hat V=m\n",
    "\\begin {bmatrix}\n",
    "V_1&0&0&\\cdots&0\\\\\n",
    "0&V_2&0&\\cdots&0\\\\\n",
    "0&0&V_3&\\cdots&0\\\\\n",
    "\\vdots&\\vdots&\\vdots&\\ddots&\\vdots\\\\\n",
    "0&\\cdots&\\cdots&0&V_{N-1}\\\\\n",
    "\\end{bmatrix}\n",
    "$$"
   ]
  },
  {
   "cell_type": "code",
   "execution_count": 2,
   "metadata": {},
   "outputs": [],
   "source": [
    "import numpy as np\n",
    "from scipy.sparse.linalg import eigsh\n",
    "from scipy.sparse.linalg import eigs\n",
    "import matplotlib.pyplot as plt\n",
    "from matplotlib import animation\n",
    "from mpl_toolkits.mplot3d import Axes3D\n",
    "from matplotlib.animation import PillowWriter\n",
    "import scienceplots\n",
    "plt.style.use(['science','notebook'])\n",
    "from scipy import sparse\n"
   ]
  },
  {
   "cell_type": "code",
   "execution_count": 3,
   "metadata": {},
   "outputs": [],
   "source": [
    "N=400\n",
    "X,Y=np.mgrid[0:1:1j*N,0:1:1j*N]\n"
   ]
  },
  {
   "cell_type": "markdown",
   "metadata": {},
   "source": [
    "令$\\hbar=1$,2D下的哈密顿算符可表示为：\n",
    "$$\\hat H = -\\frac{1}{2m}\\left(\\frac{\\partial^2}{\\partial x^2}+\\frac{\\partial^2}{\\partial y^2}\\right)+\\hat V(x,y)$$"
   ]
  },
  {
   "cell_type": "markdown",
   "metadata": {},
   "source": [
    "使用克罗内克和离散化拉普拉斯算子，并作用在波函数$ \\psi $上可得：\n",
    "$$\\left[-\\frac{1}{2}(D \\oplus D) + m\\Delta x^2 V \\right] \\psi = \\left(m \\Delta x^2 E\\right) \\psi$$\n"
   ]
  },
  {
   "cell_type": "code",
   "execution_count": null,
   "metadata": {},
   "outputs": [],
   "source": []
  },
  {
   "cell_type": "markdown",
   "metadata": {},
   "source": []
  }
 ],
 "metadata": {
  "kernelspec": {
   "display_name": "Python 3",
   "language": "python",
   "name": "python3"
  },
  "language_info": {
   "codemirror_mode": {
    "name": "ipython",
    "version": 3
   },
   "file_extension": ".py",
   "mimetype": "text/x-python",
   "name": "python",
   "nbconvert_exporter": "python",
   "pygments_lexer": "ipython3",
   "version": "3.12.1"
  }
 },
 "nbformat": 4,
 "nbformat_minor": 2
}
