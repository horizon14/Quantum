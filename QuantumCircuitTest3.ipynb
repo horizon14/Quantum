{
 "cells": [
  {
   "cell_type": "code",
   "execution_count": 3,
   "metadata": {},
   "outputs": [
    {
     "data": {
      "image/png": "[encoded data removed]",
      "text/plain": [
       "<Figure size 287.294x200.667 with 1 Axes>"
      ]
     },
     "execution_count": 3,
     "metadata": {},
     "output_type": "execute_result"
    }
   ],
   "source": [
    "from qiskit import QuantumCircuit\n",
    "\n",
    "qc=QuantumCircuit(2)\n",
    "\n",
    "qc.h(0)\n",
    "\n",
    "qc.cx(0,1)\n",
    "\n",
    "qc.draw(\"mpl\")"
   ]
  },
  {
   "cell_type": "code",
   "execution_count": 4,
   "metadata": {},
   "outputs": [],
   "source": [
    "from qiskit.quantum_info import Pauli\n",
    "\n",
    "ZZ=Pauli('ZZ')\n",
    "ZI=Pauli('ZI')\n",
    "IZ=Pauli('IZ')\n",
    "XX=Pauli('XX')\n",
    "XI=Pauli('XI')\n",
    "IX=Pauli('IX')"
   ]
  },
  {
   "cell_type": "code",
   "execution_count": 3,
   "metadata": {},
   "outputs": [
    {
     "ename": "ValueError",
     "evalue": "The number of qubits of the 0-th circuit (127) does not match the number of qubits of the 0-th observable (2).",
     "output_type": "error",
     "traceback": [
      "\u001b[1;31m---------------------------------------------------------------------------\u001b[0m",
      "\u001b[1;31mValueError\u001b[0m                                Traceback (most recent call last)",
      "Cell \u001b[1;32mIn[3], line 52\u001b[0m\n\u001b[0;32m     40\u001b[0m IX\u001b[38;5;241m=\u001b[39mPauli(\u001b[38;5;124m'\u001b[39m\u001b[38;5;124mIX\u001b[39m\u001b[38;5;124m'\u001b[39m)\n\u001b[0;32m     41\u001b[0m \u001b[38;5;66;03m# ZZ=ZZ.apply_layout(isa_circuit.layout)\u001b[39;00m\n\u001b[0;32m     42\u001b[0m \u001b[38;5;66;03m# ZI=ZI.apply_layout(isa_circuit.layout)\u001b[39;00m\n\u001b[0;32m     43\u001b[0m \u001b[38;5;66;03m# IZ=IZ.apply_layout(isa_circuit.layout)\u001b[39;00m\n\u001b[1;32m   (...)\u001b[0m\n\u001b[0;32m     50\u001b[0m \n\u001b[0;32m     51\u001b[0m \u001b[38;5;66;03m# Submit the circuit to Estimator\u001b[39;00m\n\u001b[1;32m---> 52\u001b[0m job\u001b[38;5;241m=\u001b[39mestimator\u001b[38;5;241m.\u001b[39mrun(circuits\u001b[38;5;241m=\u001b[39m[isa_circuit]\u001b[38;5;241m*\u001b[39m\u001b[38;5;241m6\u001b[39m,observables\u001b[38;5;241m=\u001b[39m[ZZ,ZI,IZ,XX,XI,IX],shots\u001b[38;5;241m=\u001b[39m\u001b[38;5;241m5000\u001b[39m)\n\u001b[0;32m     54\u001b[0m job\u001b[38;5;241m.\u001b[39mresult()\n",
      "File \u001b[1;32md:\\Anaconda\\Lib\\site-packages\\qiskit_ibm_runtime\\estimator.py:143\u001b[0m, in \u001b[0;36mEstimator.run\u001b[1;34m(self, circuits, observables, parameter_values, **kwargs)\u001b[0m\n\u001b[0;32m    141\u001b[0m \u001b[38;5;66;03m# To bypass base class merging of options.\u001b[39;00m\n\u001b[0;32m    142\u001b[0m user_kwargs \u001b[38;5;241m=\u001b[39m {\u001b[38;5;124m\"\u001b[39m\u001b[38;5;124m_user_kwargs\u001b[39m\u001b[38;5;124m\"\u001b[39m: kwargs}\n\u001b[1;32m--> 143\u001b[0m \u001b[38;5;28;01mreturn\u001b[39;00m \u001b[38;5;28msuper\u001b[39m()\u001b[38;5;241m.\u001b[39mrun(\n\u001b[0;32m    144\u001b[0m     circuits\u001b[38;5;241m=\u001b[39mcircuits,\n\u001b[0;32m    145\u001b[0m     observables\u001b[38;5;241m=\u001b[39mobservables,\n\u001b[0;32m    146\u001b[0m     parameter_values\u001b[38;5;241m=\u001b[39mparameter_values,\n\u001b[0;32m    147\u001b[0m     \u001b[38;5;241m*\u001b[39m\u001b[38;5;241m*\u001b[39muser_kwargs,\n\u001b[0;32m    148\u001b[0m )\n",
      "File \u001b[1;32md:\\Anaconda\\Lib\\site-packages\\qiskit\\primitives\\base\\base_estimator.py:167\u001b[0m, in \u001b[0;36mBaseEstimatorV1.run\u001b[1;34m(self, circuits, observables, parameter_values, **run_options)\u001b[0m\n\u001b[0;32m    130\u001b[0m \u001b[38;5;250m\u001b[39m\u001b[38;5;124;03m\"\"\"Run the job of the estimation of expectation value(s).\u001b[39;00m\n\u001b[0;32m    131\u001b[0m \n\u001b[0;32m    132\u001b[0m \u001b[38;5;124;03m``circuits``, ``observables``, and ``parameter_values`` should have the same\u001b[39;00m\n\u001b[1;32m   (...)\u001b[0m\n\u001b[0;32m    164\u001b[0m \u001b[38;5;124;03m    ValueError: Invalid argument values given.\u001b[39;00m\n\u001b[0;32m    165\u001b[0m \u001b[38;5;124;03m\"\"\"\u001b[39;00m\n\u001b[0;32m    166\u001b[0m \u001b[38;5;66;03m# Validation\u001b[39;00m\n\u001b[1;32m--> 167\u001b[0m circuits, observables, parameter_values \u001b[38;5;241m=\u001b[39m validation\u001b[38;5;241m.\u001b[39m_validate_estimator_args(\n\u001b[0;32m    168\u001b[0m     circuits, observables, parameter_values\n\u001b[0;32m    169\u001b[0m )\n\u001b[0;32m    171\u001b[0m \u001b[38;5;66;03m# Options\u001b[39;00m\n\u001b[0;32m    172\u001b[0m run_opts \u001b[38;5;241m=\u001b[39m copy(\u001b[38;5;28mself\u001b[39m\u001b[38;5;241m.\u001b[39moptions)\n",
      "File \u001b[1;32md:\\Anaconda\\Lib\\site-packages\\qiskit\\primitives\\base\\validation.py:64\u001b[0m, in \u001b[0;36m_validate_estimator_args\u001b[1;34m(circuits, observables, parameter_values)\u001b[0m\n\u001b[0;32m     62\u001b[0m \u001b[38;5;66;03m# Cross-validation\u001b[39;00m\n\u001b[0;32m     63\u001b[0m _cross_validate_circuits_parameter_values(circuits, parameter_values)\n\u001b[1;32m---> 64\u001b[0m _cross_validate_circuits_observables(circuits, observables)\n\u001b[0;32m     66\u001b[0m \u001b[38;5;28;01mreturn\u001b[39;00m circuits, observables, parameter_values\n",
      "File \u001b[1;32md:\\Anaconda\\Lib\\site-packages\\qiskit\\primitives\\base\\validation.py:204\u001b[0m, in \u001b[0;36m_cross_validate_circuits_observables\u001b[1;34m(circuits, observables)\u001b[0m\n\u001b[0;32m    202\u001b[0m \u001b[38;5;28;01mfor\u001b[39;00m i, (circuit, observable) \u001b[38;5;129;01min\u001b[39;00m \u001b[38;5;28menumerate\u001b[39m(\u001b[38;5;28mzip\u001b[39m(circuits, observables)):\n\u001b[0;32m    203\u001b[0m     \u001b[38;5;28;01mif\u001b[39;00m circuit\u001b[38;5;241m.\u001b[39mnum_qubits \u001b[38;5;241m!=\u001b[39m observable\u001b[38;5;241m.\u001b[39mnum_qubits:\n\u001b[1;32m--> 204\u001b[0m         \u001b[38;5;28;01mraise\u001b[39;00m \u001b[38;5;167;01mValueError\u001b[39;00m(\n\u001b[0;32m    205\u001b[0m             \u001b[38;5;124mf\u001b[39m\u001b[38;5;124m\"\u001b[39m\u001b[38;5;124mThe number of qubits of the \u001b[39m\u001b[38;5;132;01m{\u001b[39;00mi\u001b[38;5;132;01m}\u001b[39;00m\u001b[38;5;124m-th circuit (\u001b[39m\u001b[38;5;132;01m{\u001b[39;00mcircuit\u001b[38;5;241m.\u001b[39mnum_qubits\u001b[38;5;132;01m}\u001b[39;00m\u001b[38;5;124m) does \u001b[39m\u001b[38;5;124m\"\u001b[39m\n\u001b[0;32m    206\u001b[0m             \u001b[38;5;124mf\u001b[39m\u001b[38;5;124m\"\u001b[39m\u001b[38;5;124mnot match the number of qubits of the \u001b[39m\u001b[38;5;132;01m{\u001b[39;00mi\u001b[38;5;132;01m}\u001b[39;00m\u001b[38;5;124m-th observable \u001b[39m\u001b[38;5;124m\"\u001b[39m\n\u001b[0;32m    207\u001b[0m             \u001b[38;5;124mf\u001b[39m\u001b[38;5;124m\"\u001b[39m\u001b[38;5;124m(\u001b[39m\u001b[38;5;132;01m{\u001b[39;00mobservable\u001b[38;5;241m.\u001b[39mnum_qubits\u001b[38;5;132;01m}\u001b[39;00m\u001b[38;5;124m).\u001b[39m\u001b[38;5;124m\"\u001b[39m\n\u001b[0;32m    208\u001b[0m         )\n",
      "\u001b[1;31mValueError\u001b[0m: The number of qubits of the 0-th circuit (127) does not match the number of qubits of the 0-th observable (2)."
     ]
    }
   ],
   "source": [
    "from qiskit_ibm_runtime import QiskitRuntimeService,Estimator,Options\n",
    "from qiskit.transpiler.preset_passmanagers import generate_preset_pass_manager\n",
    "\n",
    "from qiskit_ibm_runtime import QiskitRuntimeService\n",
    "\n",
    "from qiskit import QuantumCircuit\n",
    "from qiskit.quantum_info import Pauli\n",
    "\n",
    "qc=QuantumCircuit(2)\n",
    "\n",
    "qc.h(0)\n",
    "\n",
    "qc.cx(0,1)\n",
    "\n",
    "service = QiskitRuntimeService(\n",
    "    channel='ibm_quantum',\n",
    "    instance='ibm-q/open/main',\n",
    "    token='5f06514a920357c06c8d28a577487d35cdb38135f611474836c73ec641eb6dabab1c274989863b95679552e1b5e7ee32e869cb933bf2efdae6024d14eb9f6cf0'\n",
    ")\n",
    "\n",
    "\n",
    "# Run on the least-busy backend you have access to\n",
    "backend=service.least_busy(simulator=False,operational=True)\n",
    "# backend = service.get_backend(\"ibmq_qasm_simulator\")\n",
    "\n",
    "options=Options()\n",
    "options.resilience_level=1\n",
    "options.optimization_level=3\n",
    "\n",
    "# Create an Estimator object\n",
    "estimator=Estimator(backend,options=options)\n",
    "\n",
    "pm=generate_preset_pass_manager(backend=backend,optimization_level=3)\n",
    "isa_circuit=pm.run(qc)\n",
    "ZZ=Pauli('ZZ')\n",
    "ZI=Pauli('ZI')\n",
    "IZ=Pauli('IZ')\n",
    "XX=Pauli('XX')\n",
    "XI=Pauli('XI')\n",
    "IX=Pauli('IX')\n",
    "# ZZ=ZZ.apply_layout(isa_circuit.layout)\n",
    "# ZI=ZI.apply_layout(isa_circuit.layout)\n",
    "# IZ=IZ.apply_layout(isa_circuit.layout)\n",
    "# XX=XX.apply_layout(isa_circuit.layout)\n",
    "# XI=XI.apply_layout(isa_circuit.layout)\n",
    "# IX=IX.apply_layout(isa_circuit.layout)\n",
    "\n",
    "\n",
    "\n",
    "\n",
    "# Submit the circuit to Estimator\n",
    "job=estimator.run(circuits=[isa_circuit]*6,observables=[ZZ,ZI,IZ,XX,XI,IX],shots=5000)\n",
    "\n",
    "job.result()"
   ]
  }
 ],
 "metadata": {
  "kernelspec": {
   "display_name": "my_qiskit_env",
   "language": "python",
   "name": "python3"
  },
  "language_info": {
   "codemirror_mode": {
    "name": "ipython",
    "version": 3
   },
   "file_extension": ".py",
   "mimetype": "text/x-python",
   "name": "python",
   "nbconvert_exporter": "python",
   "pygments_lexer": "ipython3",
   "version": "3.11.5"
  }
 },
 "nbformat": 4,
 "nbformat_minor": 2
}
