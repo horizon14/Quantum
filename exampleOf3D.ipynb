{
 "cells": [
  {
   "cell_type": "code",
   "execution_count": 1,
   "metadata": {},
   "outputs": [],
   "source": [
    "import numpy as np\n",
    "import matplotlib.pyplot as plt\n",
    "from matplotlib import animation\n",
    "from matplotlib.animation import PillowWriter\n",
    "from mpl_toolkits.mplot3d import Axes3D\n",
    "import scienceplots\n",
    "from scipy.sparse.linalg import eigsh   #Scipy稀疏线性代数库\n",
    "from scipy.sparse.linalg import eigs    #Scipy稀疏线性代数库\n",
    "plt.style.use(['science', 'notebook'])\n",
    "from scipy import sparse\n",
    "from skimage import measure\n",
    "import torch\n",
    "import plotly.graph_objects as go\n",
    "from torch import lobpcg\n",
    "device = torch.device('cuda' if torch.cuda.is_available() else 'cpu')"
   ]
  },
  {
   "cell_type": "markdown",
   "metadata": {},
   "source": [
    "因为势能表达为$$V(r) = -\\frac{e^2}{4 \\pi \\epsilon_0 r} = -\\frac{1}{m a_0 r}$$\n",
    "以及三维薛定谔方程的形式为：$$\\left[-\\frac{1}{2}(D \\oplus D \\oplus D) + m(\\Delta x)^2 V \\right] \\psi = \\left(m (\\Delta x)^2 E\\right) \\psi$$\n",
    "所以可以使用玻尔半径$a_0$化为无量纲版本：\n",
    "$$m (\\Delta x)^2 V = -\\frac{(\\Delta x)^2}{a_0 r} = -\\frac{(\\Delta x/a_0)^2}{(r/a_0)}$$"
   ]
  },
  {
   "cell_type": "code",
   "execution_count": 4,
   "metadata": {},
   "outputs": [],
   "source": [
    "# 初始化一个3D网格\n",
    "N=120\n",
    "X, Y, Z = np.mgrid[-25:25:N*1j, -25:25:N*1j, -25:25:N*1j]\n",
    "dx=np.diff(X[:,0,0])[0]"
   ]
  },
  {
   "cell_type": "code",
   "execution_count": 5,
   "metadata": {},
   "outputs": [
    {
     "data": {
      "text/plain": [
       "(120, 120, 120)"
      ]
     },
     "execution_count": 5,
     "metadata": {},
     "output_type": "execute_result"
    }
   ],
   "source": [
    "# 设置势能\n",
    "def get_potential(x,y,z):\n",
    "    return - dx**2 / np.sqrt(x**2 + y**2 + z**2 + 1e-10)\n",
    "V=get_potential(X,Y,Z)\n",
    "V.shape"
   ]
  },
  {
   "cell_type": "markdown",
   "metadata": {},
   "source": [
    "动能项为：\n",
    "$$T=-\\frac{1}{2}(D\\otimes D \\otimes D)$$\n",
    "势能项为：\n",
    "$$U=m(\\Delta x)^2V$$\n",
    "哈密顿量为：\n",
    "$$H=T+U$$"
   ]
  },
  {
   "cell_type": "code",
   "execution_count": 8,
   "metadata": {},
   "outputs": [
    {
     "data": {
      "text/plain": [
       "(1728000, 1728000)"
      ]
     },
     "execution_count": 8,
     "metadata": {},
     "output_type": "execute_result"
    }
   ],
   "source": [
    "# 定义哈密顿量\n",
    "diag=np.ones(N)\n",
    "diags=np.array([diag,-2*diag,diag])\n",
    "D=sparse.spdiags(diags,np.array([-1,0,1]),N,N)\n",
    "T=-1/2 * sparse.kronsum(sparse.kronsum(D,D),D)\n",
    "U=sparse.diags(V.reshape(N**3),0)\n",
    "H=T+U\n",
    "H.shape"
   ]
  },
  {
   "cell_type": "code",
   "execution_count": 9,
   "metadata": {},
   "outputs": [
    {
     "name": "stderr",
     "output_type": "stream",
     "text": [
      "C:\\Users\\xsxwz\\AppData\\Local\\Temp\\ipykernel_13620\\1749318383.py:3: UserWarning: Creating a tensor from a list of numpy.ndarrays is extremely slow. Please consider converting the list to a single numpy.ndarray with numpy.array() before converting to a tensor. (Triggered internally at C:\\cb\\pytorch_1000000000000\\work\\torch\\csrc\\utils\\tensor_new.cpp:278.)\n",
      "  H=torch.sparse_coo_tensor(indices=torch.tensor([H.row,H.col]),values=torch.tensor(H.data),size=H.shape).to(device)\n"
     ]
    }
   ],
   "source": [
    "# 由scipy的稀疏矩阵转换为torch的稀疏张量\n",
    "H=H.tocoo()\n",
    "H=torch.sparse_coo_tensor(indices=torch.tensor([H.row,H.col]),values=torch.tensor(H.data),size=H.shape).to(device)"
   ]
  },
  {
   "cell_type": "code",
   "execution_count": 11,
   "metadata": {},
   "outputs": [
    {
     "ename": "RuntimeError",
     "evalue": "CUDA error: out of memory\nCUDA kernel errors might be asynchronously reported at some other API call, so the stacktrace below might be incorrect.\nFor debugging consider passing CUDA_LAUNCH_BLOCKING=1.\nCompile with `TORCH_USE_CUDA_DSA` to enable device-side assertions.\n",
     "output_type": "error",
     "traceback": [
      "\u001b[1;31m---------------------------------------------------------------------------\u001b[0m",
      "\u001b[1;31mRuntimeError\u001b[0m                              Traceback (most recent call last)",
      "Cell \u001b[1;32mIn[11], line 2\u001b[0m\n\u001b[0;32m      1\u001b[0m \u001b[38;5;66;03m# 通过Locally Optimal Block Preconditioned Conjugate Gradient Method方法计算特征值和特征向量\u001b[39;00m\n\u001b[1;32m----> 2\u001b[0m eigenvalues, eigenvectors \u001b[38;5;241m=\u001b[39m \u001b[43mlobpcg\u001b[49m\u001b[43m(\u001b[49m\u001b[43mH\u001b[49m\u001b[43m,\u001b[49m\u001b[43m \u001b[49m\u001b[43mk\u001b[49m\u001b[38;5;241;43m=\u001b[39;49m\u001b[38;5;241;43m20\u001b[39;49m\u001b[43m,\u001b[49m\u001b[43m \u001b[49m\u001b[43mlargest\u001b[49m\u001b[38;5;241;43m=\u001b[39;49m\u001b[38;5;28;43;01mFalse\u001b[39;49;00m\u001b[43m)\u001b[49m\n",
      "File \u001b[1;32md:\\anaconda\\envs\\my_horizon\\Lib\\site-packages\\torch\\_lobpcg.py:565\u001b[0m, in \u001b[0;36mlobpcg\u001b[1;34m(A, k, B, X, n, iK, niter, tol, largest, method, tracker, ortho_iparams, ortho_fparams, ortho_bparams)\u001b[0m\n\u001b[0;32m    558\u001b[0m     \u001b[38;5;28;01mif\u001b[39;00m A\u001b[38;5;241m.\u001b[39mrequires_grad \u001b[38;5;129;01mor\u001b[39;00m (B \u001b[38;5;129;01mis\u001b[39;00m \u001b[38;5;129;01mnot\u001b[39;00m \u001b[38;5;28;01mNone\u001b[39;00m \u001b[38;5;129;01mand\u001b[39;00m B\u001b[38;5;241m.\u001b[39mrequires_grad):\n\u001b[0;32m    559\u001b[0m         \u001b[38;5;28;01mraise\u001b[39;00m \u001b[38;5;167;01mRuntimeError\u001b[39;00m(\n\u001b[0;32m    560\u001b[0m             \u001b[38;5;124m\"\u001b[39m\u001b[38;5;124mScript and require grads is not supported atm.\u001b[39m\u001b[38;5;124m\"\u001b[39m\n\u001b[0;32m    561\u001b[0m             \u001b[38;5;124m\"\u001b[39m\u001b[38;5;124mIf you just want to do the forward, use .detach()\u001b[39m\u001b[38;5;124m\"\u001b[39m\n\u001b[0;32m    562\u001b[0m             \u001b[38;5;124m\"\u001b[39m\u001b[38;5;124mon A and B before calling into lobpcg\u001b[39m\u001b[38;5;124m\"\u001b[39m\n\u001b[0;32m    563\u001b[0m         )\n\u001b[1;32m--> 565\u001b[0m \u001b[38;5;28;01mreturn\u001b[39;00m \u001b[43m_lobpcg\u001b[49m\u001b[43m(\u001b[49m\n\u001b[0;32m    566\u001b[0m \u001b[43m    \u001b[49m\u001b[43mA\u001b[49m\u001b[43m,\u001b[49m\n\u001b[0;32m    567\u001b[0m \u001b[43m    \u001b[49m\u001b[43mk\u001b[49m\u001b[43m,\u001b[49m\n\u001b[0;32m    568\u001b[0m \u001b[43m    \u001b[49m\u001b[43mB\u001b[49m\u001b[43m,\u001b[49m\n\u001b[0;32m    569\u001b[0m \u001b[43m    \u001b[49m\u001b[43mX\u001b[49m\u001b[43m,\u001b[49m\n\u001b[0;32m    570\u001b[0m \u001b[43m    \u001b[49m\u001b[43mn\u001b[49m\u001b[43m,\u001b[49m\n\u001b[0;32m    571\u001b[0m \u001b[43m    \u001b[49m\u001b[43miK\u001b[49m\u001b[43m,\u001b[49m\n\u001b[0;32m    572\u001b[0m \u001b[43m    \u001b[49m\u001b[43mniter\u001b[49m\u001b[43m,\u001b[49m\n\u001b[0;32m    573\u001b[0m \u001b[43m    \u001b[49m\u001b[43mtol\u001b[49m\u001b[43m,\u001b[49m\n\u001b[0;32m    574\u001b[0m \u001b[43m    \u001b[49m\u001b[43mlargest\u001b[49m\u001b[43m,\u001b[49m\n\u001b[0;32m    575\u001b[0m \u001b[43m    \u001b[49m\u001b[43mmethod\u001b[49m\u001b[43m,\u001b[49m\n\u001b[0;32m    576\u001b[0m \u001b[43m    \u001b[49m\u001b[43mtracker\u001b[49m\u001b[43m,\u001b[49m\n\u001b[0;32m    577\u001b[0m \u001b[43m    \u001b[49m\u001b[43mortho_iparams\u001b[49m\u001b[43m,\u001b[49m\n\u001b[0;32m    578\u001b[0m \u001b[43m    \u001b[49m\u001b[43mortho_fparams\u001b[49m\u001b[43m,\u001b[49m\n\u001b[0;32m    579\u001b[0m \u001b[43m    \u001b[49m\u001b[43mortho_bparams\u001b[49m\u001b[43m,\u001b[49m\n\u001b[0;32m    580\u001b[0m \u001b[43m\u001b[49m\u001b[43m)\u001b[49m\n",
      "File \u001b[1;32md:\\anaconda\\envs\\my_horizon\\Lib\\site-packages\\torch\\_lobpcg.py:684\u001b[0m, in \u001b[0;36m_lobpcg\u001b[1;34m(A, k, B, X, n, iK, niter, tol, largest, method, tracker, ortho_iparams, ortho_fparams, ortho_bparams)\u001b[0m\n\u001b[0;32m    680\u001b[0m \u001b[38;5;28;01massert\u001b[39;00m \u001b[38;5;28mlen\u001b[39m(X\u001b[38;5;241m.\u001b[39mshape) \u001b[38;5;241m==\u001b[39m \u001b[38;5;241m2\u001b[39m \u001b[38;5;129;01mand\u001b[39;00m X\u001b[38;5;241m.\u001b[39mshape \u001b[38;5;241m==\u001b[39m (m, n), (X\u001b[38;5;241m.\u001b[39mshape, (m, n))\n\u001b[0;32m    682\u001b[0m worker \u001b[38;5;241m=\u001b[39m LOBPCG(A, B, X, iK, iparams, fparams, bparams, method, tracker)\n\u001b[1;32m--> 684\u001b[0m \u001b[43mworker\u001b[49m\u001b[38;5;241;43m.\u001b[39;49m\u001b[43mrun\u001b[49m\u001b[43m(\u001b[49m\u001b[43m)\u001b[49m\n\u001b[0;32m    686\u001b[0m \u001b[38;5;28;01mif\u001b[39;00m \u001b[38;5;129;01mnot\u001b[39;00m torch\u001b[38;5;241m.\u001b[39mjit\u001b[38;5;241m.\u001b[39mis_scripting():\n\u001b[0;32m    687\u001b[0m     LOBPCG\u001b[38;5;241m.\u001b[39mcall_tracker \u001b[38;5;241m=\u001b[39m LOBPCG_call_tracker_orig  \u001b[38;5;66;03m# type: ignore[assignment]\u001b[39;00m\n",
      "File \u001b[1;32md:\\anaconda\\envs\\my_horizon\\Lib\\site-packages\\torch\\_lobpcg.py:831\u001b[0m, in \u001b[0;36mLOBPCG.run\u001b[1;34m(self)\u001b[0m\n\u001b[0;32m    828\u001b[0m     \u001b[38;5;28mself\u001b[39m\u001b[38;5;241m.\u001b[39mcall_tracker()\n\u001b[0;32m    830\u001b[0m \u001b[38;5;28;01mwhile\u001b[39;00m \u001b[38;5;129;01mnot\u001b[39;00m \u001b[38;5;28mself\u001b[39m\u001b[38;5;241m.\u001b[39mstop_iteration():\n\u001b[1;32m--> 831\u001b[0m     \u001b[38;5;28;43mself\u001b[39;49m\u001b[38;5;241;43m.\u001b[39;49m\u001b[43mupdate\u001b[49m\u001b[43m(\u001b[49m\u001b[43m)\u001b[49m\n\u001b[0;32m    833\u001b[0m     \u001b[38;5;28;01mif\u001b[39;00m \u001b[38;5;129;01mnot\u001b[39;00m torch\u001b[38;5;241m.\u001b[39mjit\u001b[38;5;241m.\u001b[39mis_scripting() \u001b[38;5;129;01mand\u001b[39;00m \u001b[38;5;28mself\u001b[39m\u001b[38;5;241m.\u001b[39mtracker \u001b[38;5;129;01mis\u001b[39;00m \u001b[38;5;129;01mnot\u001b[39;00m \u001b[38;5;28;01mNone\u001b[39;00m:\n\u001b[0;32m    834\u001b[0m         \u001b[38;5;28mself\u001b[39m\u001b[38;5;241m.\u001b[39mcall_tracker()\n",
      "File \u001b[1;32md:\\anaconda\\envs\\my_horizon\\Lib\\site-packages\\torch\\_lobpcg.py:763\u001b[0m, in \u001b[0;36mLOBPCG.update\u001b[1;34m(self)\u001b[0m\n\u001b[0;32m    760\u001b[0m     \u001b[38;5;28mself\u001b[39m\u001b[38;5;241m.\u001b[39mivars[\u001b[38;5;124m\"\u001b[39m\u001b[38;5;124mconverged_end\u001b[39m\u001b[38;5;124m\"\u001b[39m] \u001b[38;5;241m=\u001b[39m \u001b[38;5;241m0\u001b[39m\n\u001b[0;32m    762\u001b[0m \u001b[38;5;28;01mif\u001b[39;00m \u001b[38;5;28mself\u001b[39m\u001b[38;5;241m.\u001b[39mmethod \u001b[38;5;241m==\u001b[39m \u001b[38;5;124m\"\u001b[39m\u001b[38;5;124mortho\u001b[39m\u001b[38;5;124m\"\u001b[39m:\n\u001b[1;32m--> 763\u001b[0m     \u001b[38;5;28;43mself\u001b[39;49m\u001b[38;5;241;43m.\u001b[39;49m\u001b[43m_update_ortho\u001b[49m\u001b[43m(\u001b[49m\u001b[43m)\u001b[49m\n\u001b[0;32m    764\u001b[0m \u001b[38;5;28;01melse\u001b[39;00m:\n\u001b[0;32m    765\u001b[0m     \u001b[38;5;28mself\u001b[39m\u001b[38;5;241m.\u001b[39m_update_basic()\n",
      "File \u001b[1;32md:\\anaconda\\envs\\my_horizon\\Lib\\site-packages\\torch\\_lobpcg.py:918\u001b[0m, in \u001b[0;36mLOBPCG._update_ortho\u001b[1;34m(self)\u001b[0m\n\u001b[0;32m    916\u001b[0m S_ \u001b[38;5;241m=\u001b[39m \u001b[38;5;28mself\u001b[39m\u001b[38;5;241m.\u001b[39mS[:, nc:ns]\n\u001b[0;32m    917\u001b[0m \u001b[38;5;66;03m# Rayleigh-Ritz procedure\u001b[39;00m\n\u001b[1;32m--> 918\u001b[0m E_, Z \u001b[38;5;241m=\u001b[39m _utils\u001b[38;5;241m.\u001b[39msymeig(\u001b[43m_utils\u001b[49m\u001b[38;5;241;43m.\u001b[39;49m\u001b[43mqform\u001b[49m\u001b[43m(\u001b[49m\u001b[38;5;28;43mself\u001b[39;49m\u001b[38;5;241;43m.\u001b[39;49m\u001b[43mA\u001b[49m\u001b[43m,\u001b[49m\u001b[43m \u001b[49m\u001b[43mS_\u001b[49m\u001b[43m)\u001b[49m, largest)\n\u001b[0;32m    920\u001b[0m \u001b[38;5;66;03m# Update E, X, P\u001b[39;00m\n\u001b[0;32m    921\u001b[0m \u001b[38;5;28mself\u001b[39m\u001b[38;5;241m.\u001b[39mX[:, nc:] \u001b[38;5;241m=\u001b[39m mm(S_, Z[:, : n \u001b[38;5;241m-\u001b[39m nc])\n",
      "File \u001b[1;32md:\\anaconda\\envs\\my_horizon\\Lib\\site-packages\\torch\\_linalg_utils.py:74\u001b[0m, in \u001b[0;36mqform\u001b[1;34m(A, S)\u001b[0m\n\u001b[0;32m     72\u001b[0m \u001b[38;5;28;01mdef\u001b[39;00m \u001b[38;5;21mqform\u001b[39m(A: Optional[Tensor], S: Tensor):\n\u001b[0;32m     73\u001b[0m \u001b[38;5;250m    \u001b[39m\u001b[38;5;124;03m\"\"\"Return quadratic form :math:`S^T A S`.\"\"\"\u001b[39;00m\n\u001b[1;32m---> 74\u001b[0m     \u001b[38;5;28;01mreturn\u001b[39;00m \u001b[43mbform\u001b[49m\u001b[43m(\u001b[49m\u001b[43mS\u001b[49m\u001b[43m,\u001b[49m\u001b[43m \u001b[49m\u001b[43mA\u001b[49m\u001b[43m,\u001b[49m\u001b[43m \u001b[49m\u001b[43mS\u001b[49m\u001b[43m)\u001b[49m\n",
      "File \u001b[1;32md:\\anaconda\\envs\\my_horizon\\Lib\\site-packages\\torch\\_linalg_utils.py:69\u001b[0m, in \u001b[0;36mbform\u001b[1;34m(X, A, Y)\u001b[0m\n\u001b[0;32m     67\u001b[0m \u001b[38;5;28;01mdef\u001b[39;00m \u001b[38;5;21mbform\u001b[39m(X: Tensor, A: Optional[Tensor], Y: Tensor) \u001b[38;5;241m-\u001b[39m\u001b[38;5;241m>\u001b[39m Tensor:\n\u001b[0;32m     68\u001b[0m \u001b[38;5;250m    \u001b[39m\u001b[38;5;124;03m\"\"\"Return bilinear form of matrices: :math:`X^T A Y`.\"\"\"\u001b[39;00m\n\u001b[1;32m---> 69\u001b[0m     \u001b[38;5;28;01mreturn\u001b[39;00m matmul(transpose(X), \u001b[43mmatmul\u001b[49m\u001b[43m(\u001b[49m\u001b[43mA\u001b[49m\u001b[43m,\u001b[49m\u001b[43m \u001b[49m\u001b[43mY\u001b[49m\u001b[43m)\u001b[49m)\n",
      "File \u001b[1;32md:\\anaconda\\envs\\my_horizon\\Lib\\site-packages\\torch\\_linalg_utils.py:42\u001b[0m, in \u001b[0;36mmatmul\u001b[1;34m(A, B)\u001b[0m\n\u001b[0;32m     40\u001b[0m     \u001b[38;5;28;01mreturn\u001b[39;00m B\n\u001b[0;32m     41\u001b[0m \u001b[38;5;28;01mif\u001b[39;00m is_sparse(A):\n\u001b[1;32m---> 42\u001b[0m     \u001b[38;5;28;01mreturn\u001b[39;00m \u001b[43mtorch\u001b[49m\u001b[38;5;241;43m.\u001b[39;49m\u001b[43msparse\u001b[49m\u001b[38;5;241;43m.\u001b[39;49m\u001b[43mmm\u001b[49m\u001b[43m(\u001b[49m\u001b[43mA\u001b[49m\u001b[43m,\u001b[49m\u001b[43m \u001b[49m\u001b[43mB\u001b[49m\u001b[43m)\u001b[49m\n\u001b[0;32m     43\u001b[0m \u001b[38;5;28;01mreturn\u001b[39;00m torch\u001b[38;5;241m.\u001b[39mmatmul(A, B)\n",
      "\u001b[1;31mRuntimeError\u001b[0m: CUDA error: out of memory\nCUDA kernel errors might be asynchronously reported at some other API call, so the stacktrace below might be incorrect.\nFor debugging consider passing CUDA_LAUNCH_BLOCKING=1.\nCompile with `TORCH_USE_CUDA_DSA` to enable device-side assertions.\n"
     ]
    }
   ],
   "source": [
    "# 通过Locally Optimal Block Preconditioned Conjugate Gradient Method方法计算特征值和特征向量\n",
    "eigenvalues, eigenvectors = lobpcg(H, k=20, largest=False)"
   ]
  }
 ],
 "metadata": {
  "kernelspec": {
   "display_name": "my_horizon",
   "language": "python",
   "name": "python3"
  },
  "language_info": {
   "codemirror_mode": {
    "name": "ipython",
    "version": 3
   },
   "file_extension": ".py",
   "mimetype": "text/x-python",
   "name": "python",
   "nbconvert_exporter": "python",
   "pygments_lexer": "ipython3",
   "version": "3.12.2"
  }
 },
 "nbformat": 4,
 "nbformat_minor": 2
}
