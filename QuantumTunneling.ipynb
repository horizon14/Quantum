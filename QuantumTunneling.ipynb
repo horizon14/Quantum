{
 "cells": [
  {
   "cell_type": "markdown",
   "metadata": {},
   "source": [
    "> 一维薛定谔方程：\n",
    "> $$i\\hbar\\frac{\\partial\\Psi}{\\partial t} =-\\frac{\\hbar^2}{2m}\\frac{\\partial^2  \\Psi}{\\partial x^2} +V\\Psi$$\n",
    "***\n",
    "> 因式分解，波函数分为空间部分和时间部分：\n",
    "> $$ \\Psi (x,t) = \\psi(x)f(t) $$\n",
    "> $$f(t)=e^{-iEt/\\hbar}$$\n",
    "> $$ \\frac{-\\hbar^2}{2m}\\frac{\\partial^2\\psi}{\\partial x^2} +V\\psi=E\\psi$$\n",
    "***\n",
    "> 有限差分法,有：\n",
    "> $$ \\frac{\\partial \\psi_i}{\\partial x}=\\frac{\\psi_{i+1}-\\psi_{i-1}}{2\\Delta x} $$\n",
    "> $$ \\frac{\\partial^2 \\psi{i}}{\\partial x^2}=\\frac{\\psi'_{i+1/2} - \\psi'_{i-1/2} }{\\Delta x} $$\n",
    "> 所以有:\n",
    "> $$ \\frac{\\partial^2 \\psi_{i}}{\\partial x^2}=\\frac{\\psi_{i+1}-2\\psi_i+\\psi_{i-1}}{\\Delta^2 x} $$ \n",
    "***\n",
    "> 由拆分法代入$\\frac{\\partial^2 \\psi}{\\partial x^2}$,得到:\n",
    ">$$-\\frac{\\hbar^2}{2m}\\frac{\\psi_{i+1}-2\\psi_i+\\psi_{i-1}}{\\Delta^2 x} +V_i\\psi_i=E\\psi_i$$\n",
    "***\n",
    "> 合并项可得\n",
    ">$$-\\frac{\\hbar^2}{2m\\Delta^2 x}(\\psi_{i+1}+\\psi_{i-1})+(\\frac{\\hbar^2}{m\\Delta^2}+V_i)\\psi_i=E\\psi_i$$\n",
    "***\n",
    "> 如果有5个$\\psi_i(x)$的数据:$\\psi_0$,$\\psi_1$,$\\psi_2$,$\\psi_3$,$\\psi_4$，可列3个方程：\n",
    ">$$i=1$$\n",
    ">$$-\\frac{\\hbar^2}{2m\\Delta^2 x}(\\psi_2+\\psi_0)+(\\frac{\\hbar^2}{m\\Delta^2}+V_1)\\psi_1=E\\psi_1$$\n",
    ">$$i=2$$\n",
    ">$$-\\frac{\\hbar^2}{2m\\Delta^2 x}(\\psi_3+\\psi_1)+(\\frac{\\hbar^2}{m\\Delta^2}+V_2)\\psi_2=E\\psi_2$$\n",
    ">$$i=3$$\n",
    ">$$-\\frac{\\hbar^2}{2m\\Delta^2 x}(\\psi_4+\\psi_2)+(\\frac{\\hbar^2}{m\\Delta^2}+V_3)\\psi_3=E\\psi_3$$\n",
    "***\n",
    "> 可得如下矩阵，其中 $ \\psi_0 $ $ \\psi_4 $被忽略：\n",
    "> $$-\\frac{\\hbar^2}{2m \\Delta^2x}\n",
    " \\left[\n",
    " \\begin{matrix}\n",
    " -2-k V_1& 1 & 0 \\\\\n",
    " 1 &-2-k V_2 & 1 \\\\\n",
    " 0 & 1 & -2k V_3 \\\\\n",
    " \\end{matrix}\n",
    "\\right]\n",
    "\\left[\n",
    "    \\begin{matrix}\n",
    "    \\psi_1 \\\\\n",
    "    \\psi_2 \\\\\n",
    "    \\psi_3 \\\\\n",
    "    \\end{matrix}\n",
    "\\right]=E\n",
    "\\left[\n",
    "    \\begin{matrix}\n",
    "    \\psi_1 \\\\\n",
    "    \\psi_2 \\\\\n",
    "    \\psi_3 \\\\\n",
    "    \\end{matrix}\n",
    "    \\right\n",
    "] $$\n",
    "> 其中$k=\\frac{2m\\Delta^2 x}{\\hbar^2}$"
   ]
  },
  {
   "cell_type": "markdown",
   "metadata": {},
   "source": []
  },
  {
   "cell_type": "markdown",
   "metadata": {},
   "source": [
    "> 一维薛定谔方程：\n",
    "> $$i\\hbar\\frac{\\partial\\Psi}{\\partial t} =-\\frac{\\hbar^2}{2m}\\frac{\\partial^2  \\Psi}{\\partial x^2} +V\\Psi$$"
   ]
  },
  {
   "cell_type": "markdown",
   "metadata": {},
   "source": [
    "> 因式分解，波函数分为空间部分和时间部分：\n",
    "> $$ \\Psi (x,t) = \\psi(x)f(t) $$\n",
    "> $$f(t)=e^{-iEt/\\hbar}$$\n",
    "> $$ \\frac{-\\hbar^2}{2m}\\frac{\\partial^2\\psi}{\\partial x^2} +V\\psi=E\\psi$$"
   ]
  },
  {
   "cell_type": "markdown",
   "metadata": {},
   "source": [
    "> 有限差分方法(FDM)中用于近似二阶偏导数的三点模板\n",
    "> 对 $\\psi_{i+1}$,$\\psi_{i-1}$ 进行泰勒展开\n",
    "> 在有限差分方法中，我们常常使用泰勒展开的前几项来近似函数的导数\n",
    "> $$ \\psi(x_{i+1})=\\psi(x_i)+\\psi'(x_i) \\Delta x + \\frac12\\psi''(x_i)\\Delta x^2 +O(\\Delta x^3) $$\n",
    "> $$ \\psi(x_{i-1})=\\psi(x_i)-\\psi'(x_i) \\Delta x + \\frac12\\psi''(x_i)\\Delta x^2 -O(\\Delta x^3) $$"
   ]
  },
  {
   "cell_type": "markdown",
   "metadata": {},
   "source": [
    "> 上面两式相加\n",
    "> $$ \\psi(x_{i+1})-2\\psi(x_i)+\\psi(x_{i-1})=\\psi''(x_i)\\Delta x^2+O(\\Delta x^3) $$\n"
   ]
  },
  {
   "cell_type": "markdown",
   "metadata": {},
   "source": [
    "> $$ \\psi''(x_i)=\\frac{\\psi(x_{i+1})-2\\psi(x_i)+\\psi(x_{i-1})}{\\Delta x^2}-\\frac{O(\\Delta x^3)}{\\Delta x^2}=\\frac{\\psi(x_{i+1})-2\\psi(x_i)+\\psi(x_{i-1})}{\\Delta x^2}-O(\\Delta x) $$\n",
    ">$$ \\psi''(x_i)\\approx \\frac{\\psi(x_{i+1})-2\\psi(x_i)+\\psi(x_{i-1})}{\\Delta x^2} $$\n",
    ">$\\Delta x$越小，数据越精准"
   ]
  },
  {
   "cell_type": "markdown",
   "metadata": {},
   "source": [
    "> 所以有:\n",
    "> $$ \\frac{\\partial^2 \\psi_{i}}{\\partial x^2}=\\frac{\\psi_{i+1}-2\\psi_i+\\psi_{i-1}}{\\Delta x^2} $$ "
   ]
  },
  {
   "cell_type": "markdown",
   "metadata": {},
   "source": [
    "> 将上式代入薛定谔方程\n",
    ">$$ -\\frac{\\hbar^2}{2m}(\\frac{\\psi_{i+1}-2\\psi_i+\\psi_{i-1}}{\\Delta x^2})+V_i\\psi_i=E\\psi_i $$"
   ]
  },
  {
   "cell_type": "markdown",
   "metadata": {},
   "source": [
    "<!-- > $$ \\psi_{i+1}-2\\psi_i+\\psi_{i-1}=\\Delta x^2(-\\frac{2m}{\\hbar^2}(E-V_i)\\psi_i) $$ -->"
   ]
  },
  {
   "cell_type": "markdown",
   "metadata": {},
   "source": [
    "> $$ -\\frac{1}{2\\Delta x^2}(\\psi_{i-1} +(-2-(\\frac{2m}{\\hbar^2}\\Delta x^2V_i))\\psi_i+\\psi_{i+1})=\\frac{m}{\\hbar^2}E\\psi_i$$"
   ]
  },
  {
   "cell_type": "markdown",
   "metadata": {},
   "source": [
    "> $$ -\\frac{1}{2\\Delta x^2}\\psi_{i-1}+\\frac{1}{\\Delta x^2}\\psi_i +\\frac{m}{\\hbar^2} V_i\\psi_i -\\frac{1}{2\\Delta x^2}\\psi_{i+1}=\\frac{m}{\\hbar^2}E\\psi_i $$"
   ]
  },
  {
   "cell_type": "markdown",
   "metadata": {},
   "source": [
    ">令$L=\\frac{1}{\\hbar^2}$\n",
    ">$$-\\frac{1}{2\\Delta x^2}\\psi_{i-1}+\\frac{1}{\\Delta x^2}\\psi_i +mL^2 V_i\\psi_i -\\frac{1}{2\\Delta x^2}\\psi_{i+1}=mL^2E\\psi_i$$"
   ]
  },
  {
   "cell_type": "markdown",
   "metadata": {},
   "source": [
    ">写成矩阵形式\n",
    ">$$\n",
    "\\begin{bmatrix}\n",
    "\\frac{1}{\\Delta x^2}+mL^2V_1 & -\\frac{1}{2\\Delta x^2} & 0 & \\cdots & 0 \\\\\n",
    "-\\frac{1}{2\\Delta x^2} & \\frac{1}{\\Delta x^2}+mL^2V_2&-\\frac{1}{2\\Delta x^2} &\\cdots & 0\\\\\n",
    "0 &-\\frac{1}{2\\Delta x^2} & \\frac{1}{\\Delta x^2}+mL^2V_3&\\cdots &0\\\\\n",
    "\\vdots & \\vdots & \\vdots & \\ddots&\\vdots\\\\\n",
    "0&\\cdots&0 &-\\frac{1}{2\\Delta x^2} & \\frac{1}{\\Delta x^2}+mL^2V_{N-1}\\\\\n",
    "\\end{bmatrix}\n",
    "\\begin{bmatrix}\n",
    "\\psi_1\\\\\n",
    "\\psi_2\\\\\n",
    "\\cdots\\\\\n",
    "\\psi_{N-1}\\\\\n",
    "\\end{bmatrix}\n",
    "=mL^2E\n",
    "\\begin{bmatrix}\n",
    "\\psi_1\\\\\n",
    "\\psi_2\\\\\n",
    "\\cdots\\\\\n",
    "\\psi_{N-1}\\\\\n",
    "\\end{bmatrix}\n",
    "$$"
   ]
  },
  {
   "cell_type": "markdown",
   "metadata": {},
   "source": [
    ">可知$$\\hat H=\\hat T +\\hat V$$"
   ]
  },
  {
   "cell_type": "markdown",
   "metadata": {},
   "source": [
    ">所以动能算符\n",
    ">$$\\hat T=\n",
    "-\\frac{1}{2\\Delta x^2}\n",
    "\\begin{bmatrix}\n",
    "-2&1&0&\\cdots&0\\\\\n",
    "1&-2&1&\\cdots&0\\\\\n",
    "0&1&-2&\\cdots&0\\\\\n",
    "\\vdots & \\vdots & \\vdots & \\ddots&\\vdots\\\\\n",
    "0&\\cdots&1&-2&1\\\\\n",
    "0&\\cdots&\\cdots&1&-2\\\\\n",
    "\\end{bmatrix}\n",
    "$$"
   ]
  },
  {
   "cell_type": "markdown",
   "metadata": {},
   "source": [
    ">$$ \\hat V=mL^2\n",
    "\\begin {bmatrix}\n",
    "V_1&0&0&\\cdots&0\\\\\n",
    "0&V_2&0&\\cdots&0\\\\\n",
    "0&0&V_3&\\cdots&0\\\\\n",
    "\\vdots&\\vdots&\\vdots&\\ddots&\\vdots\\\\\n",
    "0&\\cdots&\\cdots&0&V_{N-1}\\\\\n",
    "\\end{bmatrix}\n",
    "$$"
   ]
  },
  {
   "cell_type": "markdown",
   "metadata": {},
   "source": [
    ">2维定态薛定谔方程\n",
    ">$$-\\frac{\\hbar^2}{2m}(\\frac{\\partial^2 \\psi}{\\partial x^2}+\\frac{\\partial^2 \\psi}{\\partial x^2})+V(x,y)\\psi=E\\psi$$"
   ]
  }
 ],
 "metadata": {
  "language_info": {
   "name": "python"
  }
 },
 "nbformat": 4,
 "nbformat_minor": 2
}
