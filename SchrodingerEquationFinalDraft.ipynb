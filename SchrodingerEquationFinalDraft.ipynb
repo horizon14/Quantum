{
 "cells": [
  {
   "cell_type": "markdown",
   "metadata": {},
   "source": [
    "### 前言：基于有限差分法的一维定态薛定谔方程分析\n",
    "一维定态薛定谔方程：\n",
    "$$ \\frac{-\\hbar^2}{2m}\\frac{\\partial^2\\psi}{\\partial x^2} +V\\psi=E\\psi$$\n",
    "有限差分法(FDM)中用于近似二阶偏导数的三点模板\n",
    "对 $\\psi_{i+1}$,$\\psi_{i-1}$ 进行泰勒展开\n",
    "在有限差分方法中，我们常常使用泰勒展开的前几项来近似函数的导数\n",
    "$$ \\psi(x_{i+1})=\\psi(x_i)+\\psi'(x_i) (\\Delta x) + \\frac12\\psi''(x_i)(\\Delta x)^2 +O\\left((\\Delta x)^3\\right) $$\n",
    "$$ \\psi(x_{i-1})=\\psi(x_i)-\\psi'(x_i) (\\Delta x) + \\frac12\\psi''(x_i)(\\Delta x)^2 -O\\left((\\Delta x)^3\\right) $$\n",
    "上面两式相加\n",
    "$$ \\psi(x_{i+1})-2\\psi(x_i)+\\psi(x_{i-1})=\\psi''(x_i)(\\Delta x)^2+O\\left((\\Delta x)^4\\right) $$\n",
    "$$ \\psi''(x_i)\\approx \\frac{\\psi(x_{i+1})-2\\psi(x_i)+\\psi(x_{i-1})}{(\\Delta x)^2} $$\n",
    "$\\Delta x$越小，数据越精准\n",
    "所以有:\n",
    "$$ \\frac{\\partial^2 \\psi_{i}}{\\partial x^2}=\\frac{\\psi_{i+1}-2\\psi_i+\\psi_{i-1}}{(\\Delta x)^2} $$ \n",
    "将上式代入薛定谔方程\n",
    "$$ -\\frac{\\hbar^2}{2m}\\frac{\\psi_{i+1}-2\\psi_i+\\psi_{i-1}}{(\\Delta x)^2}+V_i\\psi_i=E\\psi_i $$\n",
    "为数值分析更为方便，这里我们令$\\hbar=1$,并进行移项,即：\n",
    "$$-\\frac{1}{2(\\Delta x)^2}\\psi_{i-1}+\\frac{1}{(\\Delta x)^2}\\psi_i  -\\frac{1}{2(\\Delta x)^2}\\psi_{i+1}+mV_i\\psi_i=mE\\psi_i$$\n",
    "写成矩阵形式，此处使用无限深方势阱的边界条件$\\psi_0=0,\\psi_N=0$:\n",
    "$$\n",
    "\\begin{bmatrix}\n",
    "\\frac{1}{(\\Delta x)^2}+mV_1 & -\\frac{1}{2(\\Delta x)^2} & 0 & \\cdots & 0 \\\\\n",
    "-\\frac{1}{2(\\Delta x)^2} & \\frac{1}{(\\Delta x)^2}+mV_2&-\\frac{1}{2(\\Delta x)^2} &\\cdots & 0\\\\\n",
    "0 &-\\frac{1}{2(\\Delta x)^2} & \\frac{1}{(\\Delta x)^2}+mV_3&\\cdots &0\\\\\n",
    "\\vdots & \\vdots & \\vdots & \\ddots&\\vdots\\\\\n",
    "0&\\cdots&0 &-\\frac{1}{2(\\Delta x)^2} & \\frac{1}{(\\Delta x)^2}+mV_{N-1}\\\\\n",
    "\\end{bmatrix}\n",
    "\\begin{bmatrix}\n",
    "\\psi_1\\\\\n",
    "\\psi_2\\\\\n",
    "\\cdots\\\\\n",
    "\\psi_{N-1}\\\\\n",
    "\\end{bmatrix}\n",
    "=mE\n",
    "\\begin{bmatrix}\n",
    "\\psi_1\\\\\n",
    "\\psi_2\\\\\n",
    "\\cdots\\\\\n",
    "\\psi_{N-1}\\\\\n",
    "\\end{bmatrix}\n",
    "$$\n",
    "可知$$\\hat H=\\hat T +\\hat V$$\n",
    "所以动能算符\n",
    "$$\\hat T=\n",
    "-\\frac{1}{2(\\Delta x)^2}\n",
    "\\begin{bmatrix}\n",
    "-2&1&0&\\cdots&0\\\\\n",
    "1&-2&1&\\cdots&0\\\\\n",
    "0&1&-2&\\cdots&0\\\\\n",
    "\\vdots & \\vdots & \\vdots & \\ddots&\\vdots\\\\\n",
    "0&\\cdots&1&-2&1\\\\\n",
    "0&\\cdots&\\cdots&1&-2\\\\\n",
    "\\end{bmatrix}\n",
    "$$\n",
    "$$ \\hat V=m\n",
    "\\begin {bmatrix}\n",
    "V_1&0&0&\\cdots&0\\\\\n",
    "0&V_2&0&\\cdots&0\\\\\n",
    "0&0&V_3&\\cdots&0\\\\\n",
    "\\vdots&\\vdots&\\vdots&\\ddots&\\vdots\\\\\n",
    "0&\\cdots&\\cdots&0&V_{N-1}\\\\\n",
    "\\end{bmatrix}\n",
    "$$"
   ]
  },
  {
   "cell_type": "markdown",
   "metadata": {},
   "source": []
  },
  {
   "cell_type": "markdown",
   "metadata": {},
   "source": [
    "***\n",
    "### 齐次迪利克雷\n",
    "齐次狄利克雷边界条件本身并不仅仅是为了简化有限差分法（FDM）或其他数值方法的计算而设计的。实际上，它源自物理或工程问题的实际约束和需求。当问题的物理背景或工程要求在某个区域的边界上函数值为零时，就会自然地引入齐次狄利克雷边界条件。这种边界条件在理论物理、工程学、数学分析等多个领域中都有其物理意义和应用背景。\n",
    "\n",
    "然而，在使用有限差分法或其他数值求解方法如有限元法（FEM）时，齐次狄利克雷边界条件确实简化了求解过程。这是因为在边界上函数值被设定为零，这样在离散化过程中，边界点的值直接确定了，从而减少了需要通过方程求解的未知数数量。特别是在构造线性方程组以求解离散化后的PDE时，这种边界条件直接为某些方程提供了解，使得求解过程更为直接和简洁。\n",
    "\n",
    "在有限差分法中，如果问题设定了齐次狄利克雷边界条件，那么在对问题域进行网格划分并应用差分方程时，边界上的网格点将被直接设置为零。这简化了网格点上的计算，因为这些点不需要通过差分方程来求解，从而降低了计算复杂性和计算量。但是，重要的是要认识到，这种简化是问题本身物理或工程背景决定的，而不是数值方法强加的。\n",
    "\n",
    "总的来说，齐次狄利克雷边界条件既是从物理和工程问题的实际应用出发的自然选择，也恰好为数值求解方法（如有限差分法）提供了计算上的简化。\n",
    "***"
   ]
  },
  {
   "cell_type": "code",
   "execution_count": 1,
   "metadata": {},
   "outputs": [],
   "source": [
    "import numpy as np\n",
    "import matplotlib.pyplot as plt\n",
    "from matplotlib import animation\n",
    "from matplotlib.animation import PillowWriter\n",
    "from mpl_toolkits.mplot3d import Axes3D\n",
    "import scienceplots\n",
    "from scipy.sparse.linalg import eigsh   #Scipy稀疏线性代数库\n",
    "from scipy.sparse.linalg import eigs    #Scipy稀疏线性代数库\n",
    "\n",
    "\n",
    "\n",
    "\n",
    "plt.style.use(['science', 'notebook'])\n",
    "from scipy import sparse\n",
    "from skimage import measure\n",
    "import torch\n",
    "import plotly.graph_objects as go\n",
    "from torch import lobpcg\n",
    "device = torch.device('cuda' if torch.cuda.is_available() else 'cpu')"
   ]
  },
  {
   "cell_type": "code",
   "execution_count": 6,
   "metadata": {},
   "outputs": [],
   "source": [
    "#创建网格\n",
    "N=400\n",
    "X,Y=np.meshgrid(np.linspace(-1,1,N,dtype=float),np.linspace(-1,1,N,dtype=float))"
   ]
  },
  {
   "cell_type": "markdown",
   "metadata": {},
   "source": [
    "$$D=\\begin{bmatrix}\n",
    "-2&1&0&\\cdots&0\\\\\n",
    "1&-2&1&\\cdots&0\\\\\n",
    "0&1&-2&\\cdots&0\\\\\n",
    "\\vdots & \\vdots & \\vdots & \\ddots&\\vdots\\\\\n",
    "0&\\cdots&1&-2&1\\\\\n",
    "0&\\cdots&\\cdots&1&-2\\\\\n",
    "\\end{bmatrix}\n",
    "$$ \n",
    "$$\\left [-\\frac{1}{2}(D\\oplus D)+m(\\Delta x)^2V\\right]\\psi=m(\\Delta x)^2E\\psi$$"
   ]
  },
  {
   "cell_type": "code",
   "execution_count": 8,
   "metadata": {},
   "outputs": [],
   "source": [
    "#定义势能\n",
    "def get_potential(x,y):\n",
    "    return 0*x+0*y\n",
    "V=get_potential(X,Y)"
   ]
  },
  {
   "cell_type": "code",
   "execution_count": 18,
   "metadata": {},
   "outputs": [
    {
     "data": {
      "text/plain": [
       "<160000x160000 sparse matrix of type '<class 'numpy.float64'>'\n",
       "\twith 798400 stored elements in Compressed Sparse Row format>"
      ]
     },
     "execution_count": 18,
     "metadata": {},
     "output_type": "execute_result"
    }
   ],
   "source": [
    "#定义动能\n",
    "diag=np.ones([N])\n",
    "diags=np.array([diag,-2*diag,diag])\n",
    "D=sparse.spdiags(diags,[-1,0,1],N,N)    #创建一个三对角矩阵,N*N的稀疏矩阵\n",
    "T=-1/2*sparse.kronsum(D,D)\n",
    "U=sparse.diags(V.reshape(N**2),0)\n",
    "H=T+U\n",
    "H"
   ]
  },
  {
   "cell_type": "code",
   "execution_count": 19,
   "metadata": {},
   "outputs": [],
   "source": [
    "eigenvalues,eigenvectors=eigsh(H,k=10,which='SM')   #求解矩阵的特征值和特征向量,返回前k个最小的特征值和对应的特征向量"
   ]
  },
  {
   "cell_type": "code",
   "execution_count": null,
   "metadata": {},
   "outputs": [],
   "source": [
    "def get_e(n):\n",
    "    return eigenvectors.T[n].reshape(N,N)   #返回第n个特征向量,reshape成N*N的矩阵\n",
    "\n"
   ]
  },
  {
   "cell_type": "markdown",
   "metadata": {},
   "source": [
    "***"
   ]
  },
  {
   "cell_type": "markdown",
   "metadata": {},
   "source": [
    "令$\\hbar=1$,二维下的哈密顿算符可表示为：\n",
    "$$\\hat H = -\\frac{1}{2m}\\left(\\frac{\\partial^2}{\\partial x^2}+\\frac{\\partial^2}{\\partial y^2}+\\frac{\\partial^2}{\\partial z^2}\\right)+\\hat V(x,y,z)$$"
   ]
  },
  {
   "cell_type": "markdown",
   "metadata": {},
   "source": []
  }
 ],
 "metadata": {
  "kernelspec": {
   "display_name": "Python 3",
   "language": "python",
   "name": "python3"
  },
  "language_info": {
   "codemirror_mode": {
    "name": "ipython",
    "version": 3
   },
   "file_extension": ".py",
   "mimetype": "text/x-python",
   "name": "python",
   "nbconvert_exporter": "python",
   "pygments_lexer": "ipython3",
   "version": "3.12.2"
  }
 },
 "nbformat": 4,
 "nbformat_minor": 2
}
